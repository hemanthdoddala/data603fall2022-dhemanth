{
 "cells": [
  {
   "cell_type": "markdown",
   "id": "b0abd7bc-6113-45aa-a037-0d50785177e4",
   "metadata": {},
   "source": [
    "<h3 style=\"text-align:center\">Home Work-3</h3>\n",
    "<table>\n",
    "    <thead>\n",
    "        <th>Name</th>\n",
    "        <th>Campus Id</th>\n",
    "    </thead>\n",
    "    <tbody>\n",
    "        <tr>\n",
    "            <td>Hemanth Doddala</td>\n",
    "            <td>TK76375</td>\n",
    "        </tr>\n",
    "    </tbody>\n",
    "</table>\n",
    "<ol>\n",
    "    <li>Create a Spark session</li>\n",
    "    <li>\n",
    "        Define the schema for loading the Chicago crime dataset (https://data.cityofchicago.org/Public-Safety/Crimes-2001-to-Present/ijzp-q8t2/data)\n",
    "    </li>\n",
    "    <li>\n",
    "        Load the Chicago crime data (you should get more than a million rows).\n",
    "    </li>\n",
    "    <li>\n",
    "        Clean the data:\n",
    "        <ol>\n",
    "            <li>\n",
    "                Remove all null values.\n",
    "            </li>\n",
    "            <li>\n",
    "                Change 'Date' column data type\n",
    "            </li>\n",
    "        </ol>\n",
    "    </li>\n",
    "    <li>\n",
    "        Filter the data for last ten years.\n",
    "    </li>\n",
    "    <li>\n",
    "        Remove all the records with the following crime types:\n",
    "        <ul>\n",
    "            <li>\n",
    "                'NON-CRIMINAL (SUBJECT SPECIFIED)'\n",
    "            </li>\n",
    "            <li>\n",
    "                'OTHER OFFENSE'\n",
    "            </li>\n",
    "            <li>\n",
    "                'STALKING'\n",
    "            </li>\n",
    "            <li>\n",
    "                'NON - CRIMINAL'\n",
    "            </li>\n",
    "            <li>'\n",
    "                ARSON'\n",
    "            </li>\n",
    "        </ul>\n",
    "    </li>\n",
    "    <li>\n",
    "        Merge the similar crime types.\n",
    "        <ul>\n",
    "            <li>\n",
    "                For example, change 'Primary Type' of cases that have 'Primary Type' as ‘SEX OFFENSE’ or ‘PROSTITUTION’ such that they should have the same 'Primary Type'.\n",
    "            </li>\n",
    "        </ul>\n",
    "    </li>\n",
    "    <li>\n",
    "        Analyze the data and present results:\n",
    "        <ol>\n",
    "            <li>\n",
    "                Show year-wise trend of the crime for last ten years.\n",
    "            </li>\n",
    "            <li>\n",
    "                Find out at which hour of the day crime is highest.\n",
    "            </li>\n",
    "            <li>\n",
    "                Find top ten crimes and present them as a bar chart.\n",
    "            </li>\n",
    "        </ol>\n",
    "    </li>\n",
    "</ol>"
   ]
  },
  {
   "cell_type": "code",
   "execution_count": 1,
   "id": "65732fc8-2927-40f0-b6a1-9f4c6e38dfa6",
   "metadata": {},
   "outputs": [],
   "source": [
    "from pyspark.sql import SparkSession\n",
    "from pyspark.sql.types import StructType,StructField, StringType, IntegerType, DateType, BooleanType,TimestampType"
   ]
  },
  {
   "cell_type": "markdown",
   "id": "199aa6ce-fd8d-47bb-aa2a-c4548ca44b91",
   "metadata": {},
   "source": [
    "<h4>1. Create a Spark session</h4>"
   ]
  },
  {
   "cell_type": "code",
   "execution_count": 2,
   "id": "ced590d0-9318-4678-acac-fbd8348cff4f",
   "metadata": {},
   "outputs": [],
   "source": [
    "spark = SparkSession.builder.getOrCreate()"
   ]
  },
  {
   "cell_type": "markdown",
   "id": "4a2fd909-87b1-47fd-a346-47552cad9c03",
   "metadata": {},
   "source": [
    "<h4>\n",
    "    2. Define the schema for loading the Chicago crime dataset (https://data.cityofchicago.org/Public-Safety/Crimes-2001-to-Present/ijzp-q8t2/data)</h4>"
   ]
  },
  {
   "cell_type": "code",
   "execution_count": 3,
   "id": "a6f23554-d4dc-431e-9a32-69bad04db213",
   "metadata": {},
   "outputs": [],
   "source": [
    "schema = StructType([\n",
    "    StructField('ID', IntegerType(), False),\n",
    "    StructField('Case Number', StringType(), False),\n",
    "    StructField('Date', StringType(), False),\n",
    "    StructField('Block', StringType(), False),\n",
    "    StructField('IUCR', IntegerType(), False),\n",
    "    StructField('Primary Type', StringType(), False),\n",
    "    StructField('Description', StringType(), False),\n",
    "    StructField('Location Description', StringType(), False),\n",
    "    StructField('Arrest', BooleanType(), False),\n",
    "    StructField('Domestic', BooleanType(), False),\n",
    "    StructField('Beat', IntegerType(), False),\n",
    "    StructField('District', StringType(), False),\n",
    "    StructField('Ward', StringType(), False),\n",
    "    StructField('Community Area', StringType(), False),\n",
    "    StructField('FBI Code', StringType(), False),\n",
    "    StructField('X Coordinate', StringType(), False),\n",
    "    StructField('Y Coordinate', StringType(), False),\n",
    "    StructField('Year', StringType(), False),\n",
    "    StructField('Updated On', StringType(), False),\n",
    "    StructField('Latitude', StringType(), False),\n",
    "    StructField('Longitude', StringType(), False),\n",
    "    StructField('Location', StringType(), False),\n",
    "])"
   ]
  },
  {
   "cell_type": "markdown",
   "id": "f820fbb1-9132-4682-8a72-ea6adbca2dad",
   "metadata": {},
   "source": [
    "<h4>3. Load the Chicago crime data</h4>"
   ]
  },
  {
   "cell_type": "code",
   "execution_count": 4,
   "id": "3c1df447-d698-42c7-957c-a97e85b2e234",
   "metadata": {},
   "outputs": [],
   "source": [
    "# raw_df=spark.read.option(\"header\",True).csv(\"Crimes_-_2001_to_Present.csv\")\n",
    "raw_df = spark.read.csv('Crimes_-_2001_to_Present.csv', header=True, nullValue=None, schema=schema)"
   ]
  },
  {
   "cell_type": "code",
   "execution_count": 5,
   "id": "166be74a-f5b7-4866-89d2-90073b3907e7",
   "metadata": {},
   "outputs": [
    {
     "data": {
      "text/plain": [
       "7649542"
      ]
     },
     "execution_count": 5,
     "metadata": {},
     "output_type": "execute_result"
    }
   ],
   "source": [
    "# Counting Row before dropping NA Values\n",
    "raw_df.count()"
   ]
  },
  {
   "cell_type": "code",
   "execution_count": 6,
   "id": "7dabeb6b-fb25-4b36-ac26-4c6d0ef1ee92",
   "metadata": {},
   "outputs": [
    {
     "name": "stdout",
     "output_type": "stream",
     "text": [
      "root\n",
      " |-- ID: integer (nullable = true)\n",
      " |-- Case Number: string (nullable = true)\n",
      " |-- Date: string (nullable = true)\n",
      " |-- Block: string (nullable = true)\n",
      " |-- IUCR: integer (nullable = true)\n",
      " |-- Primary Type: string (nullable = true)\n",
      " |-- Description: string (nullable = true)\n",
      " |-- Location Description: string (nullable = true)\n",
      " |-- Arrest: boolean (nullable = true)\n",
      " |-- Domestic: boolean (nullable = true)\n",
      " |-- Beat: integer (nullable = true)\n",
      " |-- District: string (nullable = true)\n",
      " |-- Ward: string (nullable = true)\n",
      " |-- Community Area: string (nullable = true)\n",
      " |-- FBI Code: string (nullable = true)\n",
      " |-- X Coordinate: string (nullable = true)\n",
      " |-- Y Coordinate: string (nullable = true)\n",
      " |-- Year: string (nullable = true)\n",
      " |-- Updated On: string (nullable = true)\n",
      " |-- Latitude: string (nullable = true)\n",
      " |-- Longitude: string (nullable = true)\n",
      " |-- Location: string (nullable = true)\n",
      "\n"
     ]
    }
   ],
   "source": [
    "# Printing Schema of the loaded dataset\n",
    "raw_df.printSchema()"
   ]
  },
  {
   "cell_type": "markdown",
   "id": "f8dd6f39-440e-4e62-a49e-6e2103b57106",
   "metadata": {},
   "source": [
    "<h4>\n",
    "   4.Clean the data\n",
    "</h4>"
   ]
  },
  {
   "cell_type": "markdown",
   "id": "7b7a8782-266b-43e9-9901-70be0a96c1b5",
   "metadata": {},
   "source": [
    "<h5>4.A Remove all null values</h5>"
   ]
  },
  {
   "cell_type": "code",
   "execution_count": 7,
   "id": "f59bb0c5-6547-403c-87ce-fbea9337dbaf",
   "metadata": {},
   "outputs": [
    {
     "name": "stdout",
     "output_type": "stream",
     "text": [
      "+-------+-----------+-------+-------+-------+------------+-----------+--------------------+-------+--------+-------+--------+-------+--------------+--------+------------+------------+-------+----------+--------+---------+--------+\n",
      "|     ID|Case Number|   Date|  Block|   IUCR|Primary Type|Description|Location Description| Arrest|Domestic|   Beat|District|   Ward|Community Area|FBI Code|X Coordinate|Y Coordinate|   Year|Updated On|Latitude|Longitude|Location|\n",
      "+-------+-----------+-------+-------+-------+------------+-----------+--------------------+-------+--------+-------+--------+-------+--------------+--------+------------+------------+-------+----------+--------+---------+--------+\n",
      "|7649542|    7649538|7649542|7649542|7302676|     7649542|    7649542|             7639880|7649542| 7649542|7649542| 7649495|7034695|       7036066| 7649542|     7568187|     7568187|7649542|   7649542| 7568187|  7568187| 7568187|\n",
      "+-------+-----------+-------+-------+-------+------------+-----------+--------------------+-------+--------+-------+--------+-------+--------------+--------+------------+------------+-------+----------+--------+---------+--------+\n",
      "\n"
     ]
    }
   ],
   "source": [
    "# Checking Non Values in All Columns\n",
    "from pyspark.sql.functions import col, when, count\n",
    "raw_df.select([count(when(col(c).isNotNull() , c)).alias(c) for c in raw_df.columns]\n",
    "   ).show()"
   ]
  },
  {
   "cell_type": "code",
   "execution_count": 8,
   "id": "b2a62cac-3201-48a6-bc62-403929dd9414",
   "metadata": {},
   "outputs": [],
   "source": [
    "raw_df = raw_df.na.drop(how=\"any\")"
   ]
  },
  {
   "cell_type": "code",
   "execution_count": 9,
   "id": "f6efe738-237b-4a63-917b-7b72e3eb6d0a",
   "metadata": {},
   "outputs": [
    {
     "data": {
      "text/plain": [
       "6632798"
      ]
     },
     "execution_count": 9,
     "metadata": {},
     "output_type": "execute_result"
    }
   ],
   "source": [
    "# Row Count after dropping NA Values\n",
    "raw_df.count()"
   ]
  },
  {
   "cell_type": "markdown",
   "id": "ee1444ef-e8e3-4118-bdcb-27419578f449",
   "metadata": {},
   "source": [
    "<h5>4.B Change 'Date' column data type</h5>"
   ]
  },
  {
   "cell_type": "code",
   "execution_count": 10,
   "id": "efe4aa02-1e5a-4988-b548-c068f06d4304",
   "metadata": {},
   "outputs": [],
   "source": [
    "# change Date Column datatype from StringType to TimeStamp type\n",
    "import pyspark.sql.functions as func\n",
    "raw_df = raw_df.withColumn('Date', func.to_timestamp('Date', 'dd/MM/yyyy hh:mm:ss a'))"
   ]
  },
  {
   "cell_type": "code",
   "execution_count": 11,
   "id": "e3e193cd-d4be-49d1-b5bf-397d5530d664",
   "metadata": {},
   "outputs": [
    {
     "name": "stdout",
     "output_type": "stream",
     "text": [
      "root\n",
      " |-- ID: integer (nullable = true)\n",
      " |-- Case Number: string (nullable = true)\n",
      " |-- Date: timestamp (nullable = true)\n",
      " |-- Block: string (nullable = true)\n",
      " |-- IUCR: integer (nullable = true)\n",
      " |-- Primary Type: string (nullable = true)\n",
      " |-- Description: string (nullable = true)\n",
      " |-- Location Description: string (nullable = true)\n",
      " |-- Arrest: boolean (nullable = true)\n",
      " |-- Domestic: boolean (nullable = true)\n",
      " |-- Beat: integer (nullable = true)\n",
      " |-- District: string (nullable = true)\n",
      " |-- Ward: string (nullable = true)\n",
      " |-- Community Area: string (nullable = true)\n",
      " |-- FBI Code: string (nullable = true)\n",
      " |-- X Coordinate: string (nullable = true)\n",
      " |-- Y Coordinate: string (nullable = true)\n",
      " |-- Year: string (nullable = true)\n",
      " |-- Updated On: string (nullable = true)\n",
      " |-- Latitude: string (nullable = true)\n",
      " |-- Longitude: string (nullable = true)\n",
      " |-- Location: string (nullable = true)\n",
      "\n"
     ]
    }
   ],
   "source": [
    "raw_df.printSchema()"
   ]
  },
  {
   "cell_type": "markdown",
   "id": "e798b722-e4e2-4059-b018-61e58eec9ea4",
   "metadata": {},
   "source": [
    "<li>From the schema which is printed above we can see that Datatype of Date column is changed from StringType to TimeStamp</li>"
   ]
  },
  {
   "cell_type": "code",
   "execution_count": 12,
   "id": "3b7b707a-8e39-4d92-9eed-d95469b140ed",
   "metadata": {},
   "outputs": [
    {
     "name": "stdout",
     "output_type": "stream",
     "text": [
      "+--------+-----------+-------------------+--------------------+----+---------------+--------------------+--------------------+------+--------+----+--------+----+--------------+--------+------------+------------+----+--------------------+------------+-------------+--------------------+\n",
      "|      ID|Case Number|               Date|               Block|IUCR|   Primary Type|         Description|Location Description|Arrest|Domestic|Beat|District|Ward|Community Area|FBI Code|X Coordinate|Y Coordinate|Year|          Updated On|    Latitude|    Longitude|            Location|\n",
      "+--------+-----------+-------------------+--------------------+----+---------------+--------------------+--------------------+------+--------+----+--------+----+--------------+--------+------------+------------+----+--------------------+------------+-------------+--------------------+\n",
      "|10224738|   HY411648|2015-05-09 13:30:00|     043XX S WOOD ST| 486|        BATTERY|DOMESTIC BATTERY ...|           RESIDENCE| false|    true| 924|     009|  12|            61|     08B|     1165074|     1875917|2015|02/10/2018 03:50:...|41.815117282|-87.669999562|(41.815117282, -8...|\n",
      "|10224739|   HY411615|2015-04-09 11:30:00| 008XX N CENTRAL AVE| 870|          THEFT|      POCKET-PICKING|             CTA BUS| false|   false|1511|     015|  29|            25|      06|     1138875|     1904869|2015|02/10/2018 03:50:...|41.895080471|-87.765400451|(41.895080471, -8...|\n",
      "|10224740|   HY411595|2015-05-09 12:45:00|   035XX W BARRY AVE|2023|      NARCOTICS|POSS: HEROIN(BRN/...|            SIDEWALK|  true|   false|1412|     014|  35|            21|      18|     1152037|     1920384|2015|02/10/2018 03:50:...|41.937405765|-87.716649687|(41.937405765, -8...|\n",
      "|10224741|   HY411610|2015-05-09 13:00:00| 0000X N LARAMIE AVE| 560|        ASSAULT|              SIMPLE|           APARTMENT| false|    true|1522|     015|  28|            25|     08A|     1141706|     1900086|2015|02/10/2018 03:50:...|41.881903443|-87.755121152|(41.881903443, -8...|\n",
      "|10224742|   HY411435|2015-05-09 10:55:00| 082XX S LOOMIS BLVD| 610|       BURGLARY|      FORCIBLE ENTRY|           RESIDENCE| false|   false| 614|     006|  21|            71|      05|     1168430|     1850165|2015|02/10/2018 03:50:...|41.744378879|-87.658430635|(41.744378879, -8...|\n",
      "|10224743|   HY411629|2015-04-09 18:00:00|021XX W CHURCHILL ST| 620|       BURGLARY|      UNLAWFUL ENTRY|    RESIDENCE-GARAGE| false|   false|1434|     014|  32|            24|      05|     1161628|     1912157|2015|02/10/2018 03:50:...|41.914635603|-87.681630909|(41.914635603, -8...|\n",
      "|10224744|   HY411605|2015-05-09 13:00:00|   025XX W CERMAK RD| 860|          THEFT|        RETAIL THEFT|  GROCERY FOOD STORE|  true|   false|1034|     010|  25|            31|      06|     1159734|     1889313|2015|09/17/2015 11:37:...|41.851988885|-87.689219118|(41.851988885, -8...|\n",
      "|10224745|   HY411654|2015-05-09 11:30:00|031XX W WASHINGTO...| 320|        ROBBERY|STRONGARM - NO WE...|              STREET| false|    true|1222|     012|  27|            27|      03|     1155536|     1900515|2015|02/10/2018 03:50:...| 41.88281374|-87.704325717|(41.88281374, -87...|\n",
      "|10224746|   HY411662|2015-05-09 14:00:00|  071XX S PULASKI RD| 820|          THEFT|      $500 AND UNDER|PARKING LOT/GARAG...| false|   false| 833|     008|  13|            65|      06|     1150938|     1857056|2015|02/10/2018 03:50:...|41.763647552|-87.722344693|(41.763647552, -8...|\n",
      "|10224749|   HY411626|2015-05-09 11:00:00|052XX N MILWAUKEE...| 460|        BATTERY|              SIMPLE|  SMALL RETAIL STORE| false|   false|1623|     016|  45|            11|     08B|     1137969|     1934340|2015|02/10/2018 03:50:...|41.975968415|-87.768014257|(41.975968415, -8...|\n",
      "|10224750|   HY411632|2015-05-09 03:00:00|    0000X W 103RD ST|2820|  OTHER OFFENSE|    TELEPHONE THREAT|           APARTMENT| false|    true| 512|     005|  34|            49|      26|     1177871|     1836676|2015|02/10/2018 03:50:...|41.707154919|-87.624244993|(41.707154919, -8...|\n",
      "|10224751|   HY411566|2015-05-09 12:50:00|     013XX E 47TH ST| 486|        BATTERY|DOMESTIC BATTERY ...|              STREET| false|    true| 222|     002|   4|            39|     08B|     1185907|     1874105|2015|02/10/2018 03:50:...|41.809678314|-87.593638934|(41.809678314, -8...|\n",
      "|10224752|   HY411601|2015-03-09 13:00:00| 020XX W SCHILLER ST| 810|          THEFT|           OVER $500|              STREET| false|   false|1424|     014|   1|            24|      06|     1162574|     1909428|2015|02/10/2018 03:50:...|41.907127255|-87.678232016|(41.907127255, -8...|\n",
      "|10224753|   HY411489|2015-05-09 11:45:00|  080XX S JUSTINE ST| 497|        BATTERY|AGGRAVATED DOMEST...|           APARTMENT| false|   false| 612|     006|  21|            71|     04B|     1167400|     1851512|2015|02/10/2018 03:50:...|41.748097343|-87.662166183|(41.748097343, -8...|\n",
      "|10224754|   HY411656|2015-05-09 13:30:00|007XX N LEAMINGTO...|1320|CRIMINAL DAMAGE|          TO VEHICLE|              STREET| false|   false|1531|     015|  28|            25|      14|     1141889|     1904448|2015|02/10/2018 03:50:...|41.893869916|-87.754341096|(41.893869916, -8...|\n",
      "|10224756|   HY410094|2015-08-07 00:00:00|103XX S TORRENCE AVE| 620|       BURGLARY|      UNLAWFUL ENTRY|               OTHER| false|   false| 434|     004|  10|            51|      05|     1195508|     1836950|2015|02/10/2018 03:50:...|41.707490122|-87.559650325|(41.707490122, -8...|\n",
      "|10224757|   HY411388|2015-05-09 09:55:00|  088XX S PAULINA ST| 610|       BURGLARY|      FORCIBLE ENTRY|           RESIDENCE|  true|   false|2221|     022|  21|            71|      05|     1166554|     1846067|2015|02/10/2018 03:50:...|41.733173536|-87.665421067|(41.733173536, -8...|\n",
      "|10224758|   HY411568|2015-05-09 12:35:00|    059XX W GRACE ST| 486|        BATTERY|DOMESTIC BATTERY ...|              STREET| false|    true|1633|     016|  38|            15|     08B|     1136014|     1924656|2015|02/10/2018 03:50:...|41.949429769|-87.775435529|(41.949429769, -8...|\n",
      "|10224759|   HY411581|2015-04-09 22:30:00|    100XX S AVENUE L|1320|CRIMINAL DAMAGE|          TO VEHICLE|              STREET| false|   false| 432|     004|  10|            52|      14|     1201814|     1839027|2015|02/10/2018 03:50:...|41.713031786|-87.536487809|(41.713031786, -8...|\n",
      "|10224761|   HY411650|2015-02-09 00:01:00|049XX W WINNEMAC AVE|1310|CRIMINAL DAMAGE|         TO PROPERTY|    RESIDENCE-GARAGE| false|   false|1623|     016|  45|            12|      14|     1142583|     1933126|2015|02/10/2018 03:50:...|41.972552295|-87.751076926|(41.972552295, -8...|\n",
      "+--------+-----------+-------------------+--------------------+----+---------------+--------------------+--------------------+------+--------+----+--------+----+--------------+--------+------------+------------+----+--------------------+------------+-------------+--------------------+\n",
      "only showing top 20 rows\n",
      "\n"
     ]
    }
   ],
   "source": [
    "# Printing head of the dataframe to see type casted date column data.\n",
    "raw_df.show()"
   ]
  },
  {
   "cell_type": "markdown",
   "id": "094041a9-79ee-456f-97eb-02c0eb13f312",
   "metadata": {},
   "source": [
    "<h4>5. Filter the data for last ten years.</h4>"
   ]
  },
  {
   "cell_type": "code",
   "execution_count": 13,
   "id": "bf7136fb-45b8-44d3-abcb-033f095140fe",
   "metadata": {},
   "outputs": [],
   "source": [
    "filtered_df = raw_df.filter(raw_df[\"Date\"]>='2012-01-01')"
   ]
  },
  {
   "cell_type": "code",
   "execution_count": 14,
   "id": "e0f72fea-1ad3-40f3-ac53-99119c5a5a85",
   "metadata": {},
   "outputs": [
    {
     "name": "stdout",
     "output_type": "stream",
     "text": [
      "+--------+-----------+-------------------+--------------------+----+---------------+--------------------+--------------------+------+--------+----+--------+----+--------------+--------+------------+------------+----+--------------------+------------+-------------+--------------------+\n",
      "|      ID|Case Number|               Date|               Block|IUCR|   Primary Type|         Description|Location Description|Arrest|Domestic|Beat|District|Ward|Community Area|FBI Code|X Coordinate|Y Coordinate|Year|          Updated On|    Latitude|    Longitude|            Location|\n",
      "+--------+-----------+-------------------+--------------------+----+---------------+--------------------+--------------------+------+--------+----+--------+----+--------------+--------+------------+------------+----+--------------------+------------+-------------+--------------------+\n",
      "|10224738|   HY411648|2015-05-09 13:30:00|     043XX S WOOD ST| 486|        BATTERY|DOMESTIC BATTERY ...|           RESIDENCE| false|    true| 924|     009|  12|            61|     08B|     1165074|     1875917|2015|02/10/2018 03:50:...|41.815117282|-87.669999562|(41.815117282, -8...|\n",
      "|10224739|   HY411615|2015-04-09 11:30:00| 008XX N CENTRAL AVE| 870|          THEFT|      POCKET-PICKING|             CTA BUS| false|   false|1511|     015|  29|            25|      06|     1138875|     1904869|2015|02/10/2018 03:50:...|41.895080471|-87.765400451|(41.895080471, -8...|\n",
      "|10224740|   HY411595|2015-05-09 12:45:00|   035XX W BARRY AVE|2023|      NARCOTICS|POSS: HEROIN(BRN/...|            SIDEWALK|  true|   false|1412|     014|  35|            21|      18|     1152037|     1920384|2015|02/10/2018 03:50:...|41.937405765|-87.716649687|(41.937405765, -8...|\n",
      "|10224741|   HY411610|2015-05-09 13:00:00| 0000X N LARAMIE AVE| 560|        ASSAULT|              SIMPLE|           APARTMENT| false|    true|1522|     015|  28|            25|     08A|     1141706|     1900086|2015|02/10/2018 03:50:...|41.881903443|-87.755121152|(41.881903443, -8...|\n",
      "|10224742|   HY411435|2015-05-09 10:55:00| 082XX S LOOMIS BLVD| 610|       BURGLARY|      FORCIBLE ENTRY|           RESIDENCE| false|   false| 614|     006|  21|            71|      05|     1168430|     1850165|2015|02/10/2018 03:50:...|41.744378879|-87.658430635|(41.744378879, -8...|\n",
      "|10224743|   HY411629|2015-04-09 18:00:00|021XX W CHURCHILL ST| 620|       BURGLARY|      UNLAWFUL ENTRY|    RESIDENCE-GARAGE| false|   false|1434|     014|  32|            24|      05|     1161628|     1912157|2015|02/10/2018 03:50:...|41.914635603|-87.681630909|(41.914635603, -8...|\n",
      "|10224744|   HY411605|2015-05-09 13:00:00|   025XX W CERMAK RD| 860|          THEFT|        RETAIL THEFT|  GROCERY FOOD STORE|  true|   false|1034|     010|  25|            31|      06|     1159734|     1889313|2015|09/17/2015 11:37:...|41.851988885|-87.689219118|(41.851988885, -8...|\n",
      "|10224745|   HY411654|2015-05-09 11:30:00|031XX W WASHINGTO...| 320|        ROBBERY|STRONGARM - NO WE...|              STREET| false|    true|1222|     012|  27|            27|      03|     1155536|     1900515|2015|02/10/2018 03:50:...| 41.88281374|-87.704325717|(41.88281374, -87...|\n",
      "|10224746|   HY411662|2015-05-09 14:00:00|  071XX S PULASKI RD| 820|          THEFT|      $500 AND UNDER|PARKING LOT/GARAG...| false|   false| 833|     008|  13|            65|      06|     1150938|     1857056|2015|02/10/2018 03:50:...|41.763647552|-87.722344693|(41.763647552, -8...|\n",
      "|10224749|   HY411626|2015-05-09 11:00:00|052XX N MILWAUKEE...| 460|        BATTERY|              SIMPLE|  SMALL RETAIL STORE| false|   false|1623|     016|  45|            11|     08B|     1137969|     1934340|2015|02/10/2018 03:50:...|41.975968415|-87.768014257|(41.975968415, -8...|\n",
      "|10224750|   HY411632|2015-05-09 03:00:00|    0000X W 103RD ST|2820|  OTHER OFFENSE|    TELEPHONE THREAT|           APARTMENT| false|    true| 512|     005|  34|            49|      26|     1177871|     1836676|2015|02/10/2018 03:50:...|41.707154919|-87.624244993|(41.707154919, -8...|\n",
      "|10224751|   HY411566|2015-05-09 12:50:00|     013XX E 47TH ST| 486|        BATTERY|DOMESTIC BATTERY ...|              STREET| false|    true| 222|     002|   4|            39|     08B|     1185907|     1874105|2015|02/10/2018 03:50:...|41.809678314|-87.593638934|(41.809678314, -8...|\n",
      "|10224752|   HY411601|2015-03-09 13:00:00| 020XX W SCHILLER ST| 810|          THEFT|           OVER $500|              STREET| false|   false|1424|     014|   1|            24|      06|     1162574|     1909428|2015|02/10/2018 03:50:...|41.907127255|-87.678232016|(41.907127255, -8...|\n",
      "|10224753|   HY411489|2015-05-09 11:45:00|  080XX S JUSTINE ST| 497|        BATTERY|AGGRAVATED DOMEST...|           APARTMENT| false|   false| 612|     006|  21|            71|     04B|     1167400|     1851512|2015|02/10/2018 03:50:...|41.748097343|-87.662166183|(41.748097343, -8...|\n",
      "|10224754|   HY411656|2015-05-09 13:30:00|007XX N LEAMINGTO...|1320|CRIMINAL DAMAGE|          TO VEHICLE|              STREET| false|   false|1531|     015|  28|            25|      14|     1141889|     1904448|2015|02/10/2018 03:50:...|41.893869916|-87.754341096|(41.893869916, -8...|\n",
      "|10224756|   HY410094|2015-08-07 00:00:00|103XX S TORRENCE AVE| 620|       BURGLARY|      UNLAWFUL ENTRY|               OTHER| false|   false| 434|     004|  10|            51|      05|     1195508|     1836950|2015|02/10/2018 03:50:...|41.707490122|-87.559650325|(41.707490122, -8...|\n",
      "|10224757|   HY411388|2015-05-09 09:55:00|  088XX S PAULINA ST| 610|       BURGLARY|      FORCIBLE ENTRY|           RESIDENCE|  true|   false|2221|     022|  21|            71|      05|     1166554|     1846067|2015|02/10/2018 03:50:...|41.733173536|-87.665421067|(41.733173536, -8...|\n",
      "|10224758|   HY411568|2015-05-09 12:35:00|    059XX W GRACE ST| 486|        BATTERY|DOMESTIC BATTERY ...|              STREET| false|    true|1633|     016|  38|            15|     08B|     1136014|     1924656|2015|02/10/2018 03:50:...|41.949429769|-87.775435529|(41.949429769, -8...|\n",
      "|10224759|   HY411581|2015-04-09 22:30:00|    100XX S AVENUE L|1320|CRIMINAL DAMAGE|          TO VEHICLE|              STREET| false|   false| 432|     004|  10|            52|      14|     1201814|     1839027|2015|02/10/2018 03:50:...|41.713031786|-87.536487809|(41.713031786, -8...|\n",
      "|10224761|   HY411650|2015-02-09 00:01:00|049XX W WINNEMAC AVE|1310|CRIMINAL DAMAGE|         TO PROPERTY|    RESIDENCE-GARAGE| false|   false|1623|     016|  45|            12|      14|     1142583|     1933126|2015|02/10/2018 03:50:...|41.972552295|-87.751076926|(41.972552295, -8...|\n",
      "+--------+-----------+-------------------+--------------------+----+---------------+--------------------+--------------------+------+--------+----+--------+----+--------------+--------+------------+------------+----+--------------------+------------+-------------+--------------------+\n",
      "only showing top 20 rows\n",
      "\n"
     ]
    }
   ],
   "source": [
    "filtered_df.show()"
   ]
  },
  {
   "cell_type": "code",
   "execution_count": 15,
   "id": "dac23c78-426a-4151-94c9-7fe28559d9c1",
   "metadata": {},
   "outputs": [
    {
     "data": {
      "text/plain": [
       "1053420"
      ]
     },
     "execution_count": 15,
     "metadata": {},
     "output_type": "execute_result"
    }
   ],
   "source": [
    "filtered_df.count()"
   ]
  },
  {
   "cell_type": "markdown",
   "id": "7a6e90e8-a805-422d-9396-6cc2abaee332",
   "metadata": {},
   "source": [
    "<h4>6. Remove all the records with the following crime types:</h4>\n",
    "    <li>'NON-CRIMINAL (SUBJECT SPECIFIED)'</li>\n",
    "    <li>'OTHER OFFENSE'</li>\n",
    "    <li>'STALKING'</li>\n",
    "    <li>'NON - CRIMINAL'</li>\n",
    "    <li> ARSON'</li>\n"
   ]
  },
  {
   "cell_type": "code",
   "execution_count": 16,
   "id": "2fee547c-4e79-44f8-b6da-c2c45f5aa0c2",
   "metadata": {},
   "outputs": [
    {
     "name": "stdout",
     "output_type": "stream",
     "text": [
      "+---------------------------------+\n",
      "|Primary Type                     |\n",
      "+---------------------------------+\n",
      "|OFFENSE INVOLVING CHILDREN       |\n",
      "|CRIMINAL SEXUAL ASSAULT          |\n",
      "|STALKING                         |\n",
      "|PUBLIC PEACE VIOLATION           |\n",
      "|OBSCENITY                        |\n",
      "|NON-CRIMINAL (SUBJECT SPECIFIED) |\n",
      "|ARSON                            |\n",
      "|GAMBLING                         |\n",
      "|CRIMINAL TRESPASS                |\n",
      "|ASSAULT                          |\n",
      "|NON - CRIMINAL                   |\n",
      "|LIQUOR LAW VIOLATION             |\n",
      "|MOTOR VEHICLE THEFT              |\n",
      "|THEFT                            |\n",
      "|BATTERY                          |\n",
      "|ROBBERY                          |\n",
      "|HOMICIDE                         |\n",
      "|PUBLIC INDECENCY                 |\n",
      "|CRIM SEXUAL ASSAULT              |\n",
      "|HUMAN TRAFFICKING                |\n",
      "|INTIMIDATION                     |\n",
      "|PROSTITUTION                     |\n",
      "|DECEPTIVE PRACTICE               |\n",
      "|CONCEALED CARRY LICENSE VIOLATION|\n",
      "|SEX OFFENSE                      |\n",
      "|CRIMINAL DAMAGE                  |\n",
      "|NARCOTICS                        |\n",
      "|NON-CRIMINAL                     |\n",
      "|OTHER OFFENSE                    |\n",
      "|KIDNAPPING                       |\n",
      "|BURGLARY                         |\n",
      "|WEAPONS VIOLATION                |\n",
      "|INTERFERENCE WITH PUBLIC OFFICER |\n",
      "|OTHER NARCOTIC VIOLATION         |\n",
      "+---------------------------------+\n",
      "\n"
     ]
    }
   ],
   "source": [
    "# Checking all Distinct or Unique entries in the column before removing\n",
    "filtered_df.select('Primary Type').distinct().show(100, False)"
   ]
  },
  {
   "cell_type": "code",
   "execution_count": 17,
   "id": "997b1887-4df5-471f-9f90-64bfdd541824",
   "metadata": {},
   "outputs": [],
   "source": [
    "filtered_df = filtered_df.filter(\n",
    "    (filtered_df['Primary Type'] != 'NON-CRIMINAL (SUBJECT SPECIFIED)') &\n",
    "    (filtered_df['Primary Type'] != 'OTHER OFFENSE') & \n",
    "    (filtered_df['Primary Type'] != 'STALKING') &\n",
    "    (filtered_df['Primary Type'] != 'NON-CRIMINAL') & \n",
    "    (filtered_df['Primary Type'] != 'NON - CRIMINAL') &\n",
    "    (filtered_df['Primary Type'] != 'ARSON'))"
   ]
  },
  {
   "cell_type": "code",
   "execution_count": 18,
   "id": "891358d5-0871-4d43-bbd6-6ddb270d0da2",
   "metadata": {},
   "outputs": [
    {
     "name": "stdout",
     "output_type": "stream",
     "text": [
      "+---------------------------------+\n",
      "|Primary Type                     |\n",
      "+---------------------------------+\n",
      "|OFFENSE INVOLVING CHILDREN       |\n",
      "|CRIMINAL SEXUAL ASSAULT          |\n",
      "|PUBLIC PEACE VIOLATION           |\n",
      "|OBSCENITY                        |\n",
      "|GAMBLING                         |\n",
      "|CRIMINAL TRESPASS                |\n",
      "|ASSAULT                          |\n",
      "|LIQUOR LAW VIOLATION             |\n",
      "|MOTOR VEHICLE THEFT              |\n",
      "|THEFT                            |\n",
      "|BATTERY                          |\n",
      "|ROBBERY                          |\n",
      "|HOMICIDE                         |\n",
      "|PUBLIC INDECENCY                 |\n",
      "|CRIM SEXUAL ASSAULT              |\n",
      "|HUMAN TRAFFICKING                |\n",
      "|INTIMIDATION                     |\n",
      "|PROSTITUTION                     |\n",
      "|DECEPTIVE PRACTICE               |\n",
      "|CONCEALED CARRY LICENSE VIOLATION|\n",
      "|SEX OFFENSE                      |\n",
      "|CRIMINAL DAMAGE                  |\n",
      "|NARCOTICS                        |\n",
      "|KIDNAPPING                       |\n",
      "|BURGLARY                         |\n",
      "|WEAPONS VIOLATION                |\n",
      "|INTERFERENCE WITH PUBLIC OFFICER |\n",
      "|OTHER NARCOTIC VIOLATION         |\n",
      "+---------------------------------+\n",
      "\n"
     ]
    }
   ],
   "source": [
    "filtered_df.select('Primary Type').distinct().show(100, False)"
   ]
  },
  {
   "cell_type": "markdown",
   "id": "90530dab-0043-4312-9ed0-32e56444be2d",
   "metadata": {},
   "source": [
    "<h4>7. Merge the similar crime types.</h4>\n",
    "<li>For example, change 'Primary Type' of cases that have 'Primary Type' as ‘SEX OFFENSE’ or ‘PROSTITUTION’ such that they should have the same 'Primary Type'. </li>"
   ]
  },
  {
   "cell_type": "code",
   "execution_count": 19,
   "id": "06d65d6c-9919-4b15-8e67-aa144a62f4b7",
   "metadata": {},
   "outputs": [
    {
     "data": {
      "text/plain": [
       "DataFrame[ID: int, Case Number: string, Date: timestamp, Block: string, IUCR: int, Primary Type: string, Description: string, Location Description: string, Arrest: boolean, Domestic: boolean, Beat: int, District: string, Ward: string, Community Area: string, FBI Code: string, X Coordinate: string, Y Coordinate: string, Year: string, Updated On: string, Latitude: string, Longitude: string, Location: string]"
      ]
     },
     "execution_count": 19,
     "metadata": {},
     "output_type": "execute_result"
    }
   ],
   "source": [
    "filtered_df.withColumn(\"Primary Type\", \n",
    "                       when(filtered_df['Primary Type'] == 'PROSTITUTION', 'SEX OFFENSE').\\\n",
    "                       when(filtered_df['Primary Type'] == 'CRIM SEXUAL ASSAULT', 'CRIMINAL SEXUAL ASSAULT').\\\n",
    "                       when(filtered_df['Primary Type'] == 'OTHER NARCOTIC VIOLATION', 'NARCOTICS').\\\n",
    "                       when(filtered_df['Primary Type'] == 'PUBLIC PEACE VIOLATION', 'PUBLIC INDECENCY').\\\n",
    "                       otherwise(filtered_df['Primary Type']))"
   ]
  },
  {
   "cell_type": "code",
   "execution_count": 20,
   "id": "64732e27-4c92-41a9-b59f-d138f3c017d7",
   "metadata": {},
   "outputs": [
    {
     "name": "stdout",
     "output_type": "stream",
     "text": [
      "+---------------------------------+\n",
      "|Primary Type                     |\n",
      "+---------------------------------+\n",
      "|OFFENSE INVOLVING CHILDREN       |\n",
      "|CRIMINAL SEXUAL ASSAULT          |\n",
      "|PUBLIC PEACE VIOLATION           |\n",
      "|OBSCENITY                        |\n",
      "|GAMBLING                         |\n",
      "|CRIMINAL TRESPASS                |\n",
      "|ASSAULT                          |\n",
      "|LIQUOR LAW VIOLATION             |\n",
      "|MOTOR VEHICLE THEFT              |\n",
      "|THEFT                            |\n",
      "|BATTERY                          |\n",
      "|ROBBERY                          |\n",
      "|HOMICIDE                         |\n",
      "|PUBLIC INDECENCY                 |\n",
      "|CRIM SEXUAL ASSAULT              |\n",
      "|HUMAN TRAFFICKING                |\n",
      "|INTIMIDATION                     |\n",
      "|PROSTITUTION                     |\n",
      "|DECEPTIVE PRACTICE               |\n",
      "|CONCEALED CARRY LICENSE VIOLATION|\n",
      "|SEX OFFENSE                      |\n",
      "|CRIMINAL DAMAGE                  |\n",
      "|NARCOTICS                        |\n",
      "|KIDNAPPING                       |\n",
      "|BURGLARY                         |\n",
      "|WEAPONS VIOLATION                |\n",
      "|INTERFERENCE WITH PUBLIC OFFICER |\n",
      "|OTHER NARCOTIC VIOLATION         |\n",
      "+---------------------------------+\n",
      "\n"
     ]
    }
   ],
   "source": [
    "filtered_df.select('Primary Type').distinct().show(100, False)"
   ]
  },
  {
   "cell_type": "markdown",
   "id": "e58eff62-2fba-44a5-a11f-843279c4819e",
   "metadata": {},
   "source": [
    "<h4>8. Analyze the data and present results</h4>"
   ]
  },
  {
   "cell_type": "markdown",
   "id": "806ea8c8-e46a-45eb-b166-495cbc383fed",
   "metadata": {},
   "source": [
    "<h5>8.A AShow year-wise trend of the crime for last ten years.</h5>"
   ]
  },
  {
   "cell_type": "code",
   "execution_count": 21,
   "id": "c2820516-86a3-49fa-8e6d-d056a615d092",
   "metadata": {},
   "outputs": [],
   "source": [
    "import seaborn as sns\n",
    "import matplotlib.pyplot as plt"
   ]
  },
  {
   "cell_type": "code",
   "execution_count": 22,
   "id": "a8ded3b8-0730-42d7-b448-233bd62a4a1c",
   "metadata": {},
   "outputs": [
    {
     "name": "stdout",
     "output_type": "stream",
     "text": [
      "+--------+-----------+-------------------+--------------------+----+---------------+--------------------+--------------------+------+--------+----+--------+----+--------------+--------+------------+------------+----+--------------------+------------+-------------+--------------------+\n",
      "|      ID|Case Number|               Date|               Block|IUCR|   Primary Type|         Description|Location Description|Arrest|Domestic|Beat|District|Ward|Community Area|FBI Code|X Coordinate|Y Coordinate|Year|          Updated On|    Latitude|    Longitude|            Location|\n",
      "+--------+-----------+-------------------+--------------------+----+---------------+--------------------+--------------------+------+--------+----+--------+----+--------------+--------+------------+------------+----+--------------------+------------+-------------+--------------------+\n",
      "|10224738|   HY411648|2015-05-09 13:30:00|     043XX S WOOD ST| 486|        BATTERY|DOMESTIC BATTERY ...|           RESIDENCE| false|    true| 924|     009|  12|            61|     08B|     1165074|     1875917|2015|02/10/2018 03:50:...|41.815117282|-87.669999562|(41.815117282, -8...|\n",
      "|10224739|   HY411615|2015-04-09 11:30:00| 008XX N CENTRAL AVE| 870|          THEFT|      POCKET-PICKING|             CTA BUS| false|   false|1511|     015|  29|            25|      06|     1138875|     1904869|2015|02/10/2018 03:50:...|41.895080471|-87.765400451|(41.895080471, -8...|\n",
      "|10224740|   HY411595|2015-05-09 12:45:00|   035XX W BARRY AVE|2023|      NARCOTICS|POSS: HEROIN(BRN/...|            SIDEWALK|  true|   false|1412|     014|  35|            21|      18|     1152037|     1920384|2015|02/10/2018 03:50:...|41.937405765|-87.716649687|(41.937405765, -8...|\n",
      "|10224741|   HY411610|2015-05-09 13:00:00| 0000X N LARAMIE AVE| 560|        ASSAULT|              SIMPLE|           APARTMENT| false|    true|1522|     015|  28|            25|     08A|     1141706|     1900086|2015|02/10/2018 03:50:...|41.881903443|-87.755121152|(41.881903443, -8...|\n",
      "|10224742|   HY411435|2015-05-09 10:55:00| 082XX S LOOMIS BLVD| 610|       BURGLARY|      FORCIBLE ENTRY|           RESIDENCE| false|   false| 614|     006|  21|            71|      05|     1168430|     1850165|2015|02/10/2018 03:50:...|41.744378879|-87.658430635|(41.744378879, -8...|\n",
      "|10224743|   HY411629|2015-04-09 18:00:00|021XX W CHURCHILL ST| 620|       BURGLARY|      UNLAWFUL ENTRY|    RESIDENCE-GARAGE| false|   false|1434|     014|  32|            24|      05|     1161628|     1912157|2015|02/10/2018 03:50:...|41.914635603|-87.681630909|(41.914635603, -8...|\n",
      "|10224744|   HY411605|2015-05-09 13:00:00|   025XX W CERMAK RD| 860|          THEFT|        RETAIL THEFT|  GROCERY FOOD STORE|  true|   false|1034|     010|  25|            31|      06|     1159734|     1889313|2015|09/17/2015 11:37:...|41.851988885|-87.689219118|(41.851988885, -8...|\n",
      "|10224745|   HY411654|2015-05-09 11:30:00|031XX W WASHINGTO...| 320|        ROBBERY|STRONGARM - NO WE...|              STREET| false|    true|1222|     012|  27|            27|      03|     1155536|     1900515|2015|02/10/2018 03:50:...| 41.88281374|-87.704325717|(41.88281374, -87...|\n",
      "|10224746|   HY411662|2015-05-09 14:00:00|  071XX S PULASKI RD| 820|          THEFT|      $500 AND UNDER|PARKING LOT/GARAG...| false|   false| 833|     008|  13|            65|      06|     1150938|     1857056|2015|02/10/2018 03:50:...|41.763647552|-87.722344693|(41.763647552, -8...|\n",
      "|10224749|   HY411626|2015-05-09 11:00:00|052XX N MILWAUKEE...| 460|        BATTERY|              SIMPLE|  SMALL RETAIL STORE| false|   false|1623|     016|  45|            11|     08B|     1137969|     1934340|2015|02/10/2018 03:50:...|41.975968415|-87.768014257|(41.975968415, -8...|\n",
      "|10224751|   HY411566|2015-05-09 12:50:00|     013XX E 47TH ST| 486|        BATTERY|DOMESTIC BATTERY ...|              STREET| false|    true| 222|     002|   4|            39|     08B|     1185907|     1874105|2015|02/10/2018 03:50:...|41.809678314|-87.593638934|(41.809678314, -8...|\n",
      "|10224752|   HY411601|2015-03-09 13:00:00| 020XX W SCHILLER ST| 810|          THEFT|           OVER $500|              STREET| false|   false|1424|     014|   1|            24|      06|     1162574|     1909428|2015|02/10/2018 03:50:...|41.907127255|-87.678232016|(41.907127255, -8...|\n",
      "|10224753|   HY411489|2015-05-09 11:45:00|  080XX S JUSTINE ST| 497|        BATTERY|AGGRAVATED DOMEST...|           APARTMENT| false|   false| 612|     006|  21|            71|     04B|     1167400|     1851512|2015|02/10/2018 03:50:...|41.748097343|-87.662166183|(41.748097343, -8...|\n",
      "|10224754|   HY411656|2015-05-09 13:30:00|007XX N LEAMINGTO...|1320|CRIMINAL DAMAGE|          TO VEHICLE|              STREET| false|   false|1531|     015|  28|            25|      14|     1141889|     1904448|2015|02/10/2018 03:50:...|41.893869916|-87.754341096|(41.893869916, -8...|\n",
      "|10224756|   HY410094|2015-08-07 00:00:00|103XX S TORRENCE AVE| 620|       BURGLARY|      UNLAWFUL ENTRY|               OTHER| false|   false| 434|     004|  10|            51|      05|     1195508|     1836950|2015|02/10/2018 03:50:...|41.707490122|-87.559650325|(41.707490122, -8...|\n",
      "|10224757|   HY411388|2015-05-09 09:55:00|  088XX S PAULINA ST| 610|       BURGLARY|      FORCIBLE ENTRY|           RESIDENCE|  true|   false|2221|     022|  21|            71|      05|     1166554|     1846067|2015|02/10/2018 03:50:...|41.733173536|-87.665421067|(41.733173536, -8...|\n",
      "|10224758|   HY411568|2015-05-09 12:35:00|    059XX W GRACE ST| 486|        BATTERY|DOMESTIC BATTERY ...|              STREET| false|    true|1633|     016|  38|            15|     08B|     1136014|     1924656|2015|02/10/2018 03:50:...|41.949429769|-87.775435529|(41.949429769, -8...|\n",
      "|10224759|   HY411581|2015-04-09 22:30:00|    100XX S AVENUE L|1320|CRIMINAL DAMAGE|          TO VEHICLE|              STREET| false|   false| 432|     004|  10|            52|      14|     1201814|     1839027|2015|02/10/2018 03:50:...|41.713031786|-87.536487809|(41.713031786, -8...|\n",
      "|10224761|   HY411650|2015-02-09 00:01:00|049XX W WINNEMAC AVE|1310|CRIMINAL DAMAGE|         TO PROPERTY|    RESIDENCE-GARAGE| false|   false|1623|     016|  45|            12|      14|     1142583|     1933126|2015|02/10/2018 03:50:...|41.972552295|-87.751076926|(41.972552295, -8...|\n",
      "|10224762|   HY411563|2015-04-09 15:00:00|    100XX S AVENUE L|1320|CRIMINAL DAMAGE|          TO VEHICLE|              STREET| false|   false| 432|     004|  10|            52|      14|     1201814|     1839027|2015|02/10/2018 03:50:...|41.713031786|-87.536487809|(41.713031786, -8...|\n",
      "+--------+-----------+-------------------+--------------------+----+---------------+--------------------+--------------------+------+--------+----+--------+----+--------------+--------+------------+------------+----+--------------------+------------+-------------+--------------------+\n",
      "only showing top 20 rows\n",
      "\n"
     ]
    }
   ],
   "source": [
    "filtered_df.show()"
   ]
  },
  {
   "cell_type": "code",
   "execution_count": 23,
   "id": "ce30b4cf-996e-4f15-8b16-5f847d12d0a0",
   "metadata": {},
   "outputs": [],
   "source": [
    "grouped_df = filtered_df.groupBy('Year').count().sort('Year')\n"
   ]
  },
  {
   "cell_type": "code",
   "execution_count": 24,
   "id": "61d694d4-9720-4783-8086-c716a7689458",
   "metadata": {},
   "outputs": [
    {
     "data": {
      "text/plain": [
       "Text(0.5, 1.0, 'Year wise Crime Count')"
      ]
     },
     "execution_count": 24,
     "metadata": {},
     "output_type": "execute_result"
    },
    {
     "data": {
      "image/png": "[encoded data removed]",
      "text/plain": [
       "<Figure size 640x480 with 1 Axes>"
      ]
     },
     "metadata": {},
     "output_type": "display_data"
    }
   ],
   "source": [
    "x = grouped_df.toPandas()['Year'].values.tolist()\n",
    "y = grouped_df.toPandas()['count'].values.tolist()\n",
    "plt.bar(x, y)\n",
    "plt.xlabel('Year')\n",
    "plt.ylabel('Crime Count')\n",
    "plt.title('Year wise Crime Count')"
   ]
  },
  {
   "cell_type": "code",
   "execution_count": 25,
   "id": "9d79b911-9694-4509-b046-069a9d88fe02",
   "metadata": {},
   "outputs": [],
   "source": [
    "filtered_df = filtered_df.withColumn(\"hour\", func.hour(col('Date')))"
   ]
  },
  {
   "cell_type": "code",
   "execution_count": 26,
   "id": "1563a713-4a52-4e49-9306-06bf0b00246a",
   "metadata": {},
   "outputs": [
    {
     "name": "stdout",
     "output_type": "stream",
     "text": [
      "+--------+-----------+-------------------+--------------------+----+---------------+--------------------+--------------------+------+--------+----+--------+----+--------------+--------+------------+------------+----+--------------------+------------+-------------+--------------------+----+\n",
      "|      ID|Case Number|               Date|               Block|IUCR|   Primary Type|         Description|Location Description|Arrest|Domestic|Beat|District|Ward|Community Area|FBI Code|X Coordinate|Y Coordinate|Year|          Updated On|    Latitude|    Longitude|            Location|hour|\n",
      "+--------+-----------+-------------------+--------------------+----+---------------+--------------------+--------------------+------+--------+----+--------+----+--------------+--------+------------+------------+----+--------------------+------------+-------------+--------------------+----+\n",
      "|10224738|   HY411648|2015-05-09 13:30:00|     043XX S WOOD ST| 486|        BATTERY|DOMESTIC BATTERY ...|           RESIDENCE| false|    true| 924|     009|  12|            61|     08B|     1165074|     1875917|2015|02/10/2018 03:50:...|41.815117282|-87.669999562|(41.815117282, -8...|  13|\n",
      "|10224739|   HY411615|2015-04-09 11:30:00| 008XX N CENTRAL AVE| 870|          THEFT|      POCKET-PICKING|             CTA BUS| false|   false|1511|     015|  29|            25|      06|     1138875|     1904869|2015|02/10/2018 03:50:...|41.895080471|-87.765400451|(41.895080471, -8...|  11|\n",
      "|10224740|   HY411595|2015-05-09 12:45:00|   035XX W BARRY AVE|2023|      NARCOTICS|POSS: HEROIN(BRN/...|            SIDEWALK|  true|   false|1412|     014|  35|            21|      18|     1152037|     1920384|2015|02/10/2018 03:50:...|41.937405765|-87.716649687|(41.937405765, -8...|  12|\n",
      "|10224741|   HY411610|2015-05-09 13:00:00| 0000X N LARAMIE AVE| 560|        ASSAULT|              SIMPLE|           APARTMENT| false|    true|1522|     015|  28|            25|     08A|     1141706|     1900086|2015|02/10/2018 03:50:...|41.881903443|-87.755121152|(41.881903443, -8...|  13|\n",
      "|10224742|   HY411435|2015-05-09 10:55:00| 082XX S LOOMIS BLVD| 610|       BURGLARY|      FORCIBLE ENTRY|           RESIDENCE| false|   false| 614|     006|  21|            71|      05|     1168430|     1850165|2015|02/10/2018 03:50:...|41.744378879|-87.658430635|(41.744378879, -8...|  10|\n",
      "|10224743|   HY411629|2015-04-09 18:00:00|021XX W CHURCHILL ST| 620|       BURGLARY|      UNLAWFUL ENTRY|    RESIDENCE-GARAGE| false|   false|1434|     014|  32|            24|      05|     1161628|     1912157|2015|02/10/2018 03:50:...|41.914635603|-87.681630909|(41.914635603, -8...|  18|\n",
      "|10224744|   HY411605|2015-05-09 13:00:00|   025XX W CERMAK RD| 860|          THEFT|        RETAIL THEFT|  GROCERY FOOD STORE|  true|   false|1034|     010|  25|            31|      06|     1159734|     1889313|2015|09/17/2015 11:37:...|41.851988885|-87.689219118|(41.851988885, -8...|  13|\n",
      "|10224745|   HY411654|2015-05-09 11:30:00|031XX W WASHINGTO...| 320|        ROBBERY|STRONGARM - NO WE...|              STREET| false|    true|1222|     012|  27|            27|      03|     1155536|     1900515|2015|02/10/2018 03:50:...| 41.88281374|-87.704325717|(41.88281374, -87...|  11|\n",
      "|10224746|   HY411662|2015-05-09 14:00:00|  071XX S PULASKI RD| 820|          THEFT|      $500 AND UNDER|PARKING LOT/GARAG...| false|   false| 833|     008|  13|            65|      06|     1150938|     1857056|2015|02/10/2018 03:50:...|41.763647552|-87.722344693|(41.763647552, -8...|  14|\n",
      "|10224749|   HY411626|2015-05-09 11:00:00|052XX N MILWAUKEE...| 460|        BATTERY|              SIMPLE|  SMALL RETAIL STORE| false|   false|1623|     016|  45|            11|     08B|     1137969|     1934340|2015|02/10/2018 03:50:...|41.975968415|-87.768014257|(41.975968415, -8...|  11|\n",
      "|10224751|   HY411566|2015-05-09 12:50:00|     013XX E 47TH ST| 486|        BATTERY|DOMESTIC BATTERY ...|              STREET| false|    true| 222|     002|   4|            39|     08B|     1185907|     1874105|2015|02/10/2018 03:50:...|41.809678314|-87.593638934|(41.809678314, -8...|  12|\n",
      "|10224752|   HY411601|2015-03-09 13:00:00| 020XX W SCHILLER ST| 810|          THEFT|           OVER $500|              STREET| false|   false|1424|     014|   1|            24|      06|     1162574|     1909428|2015|02/10/2018 03:50:...|41.907127255|-87.678232016|(41.907127255, -8...|  13|\n",
      "|10224753|   HY411489|2015-05-09 11:45:00|  080XX S JUSTINE ST| 497|        BATTERY|AGGRAVATED DOMEST...|           APARTMENT| false|   false| 612|     006|  21|            71|     04B|     1167400|     1851512|2015|02/10/2018 03:50:...|41.748097343|-87.662166183|(41.748097343, -8...|  11|\n",
      "|10224754|   HY411656|2015-05-09 13:30:00|007XX N LEAMINGTO...|1320|CRIMINAL DAMAGE|          TO VEHICLE|              STREET| false|   false|1531|     015|  28|            25|      14|     1141889|     1904448|2015|02/10/2018 03:50:...|41.893869916|-87.754341096|(41.893869916, -8...|  13|\n",
      "|10224756|   HY410094|2015-08-07 00:00:00|103XX S TORRENCE AVE| 620|       BURGLARY|      UNLAWFUL ENTRY|               OTHER| false|   false| 434|     004|  10|            51|      05|     1195508|     1836950|2015|02/10/2018 03:50:...|41.707490122|-87.559650325|(41.707490122, -8...|   0|\n",
      "|10224757|   HY411388|2015-05-09 09:55:00|  088XX S PAULINA ST| 610|       BURGLARY|      FORCIBLE ENTRY|           RESIDENCE|  true|   false|2221|     022|  21|            71|      05|     1166554|     1846067|2015|02/10/2018 03:50:...|41.733173536|-87.665421067|(41.733173536, -8...|   9|\n",
      "|10224758|   HY411568|2015-05-09 12:35:00|    059XX W GRACE ST| 486|        BATTERY|DOMESTIC BATTERY ...|              STREET| false|    true|1633|     016|  38|            15|     08B|     1136014|     1924656|2015|02/10/2018 03:50:...|41.949429769|-87.775435529|(41.949429769, -8...|  12|\n",
      "|10224759|   HY411581|2015-04-09 22:30:00|    100XX S AVENUE L|1320|CRIMINAL DAMAGE|          TO VEHICLE|              STREET| false|   false| 432|     004|  10|            52|      14|     1201814|     1839027|2015|02/10/2018 03:50:...|41.713031786|-87.536487809|(41.713031786, -8...|  22|\n",
      "|10224761|   HY411650|2015-02-09 00:01:00|049XX W WINNEMAC AVE|1310|CRIMINAL DAMAGE|         TO PROPERTY|    RESIDENCE-GARAGE| false|   false|1623|     016|  45|            12|      14|     1142583|     1933126|2015|02/10/2018 03:50:...|41.972552295|-87.751076926|(41.972552295, -8...|   0|\n",
      "|10224762|   HY411563|2015-04-09 15:00:00|    100XX S AVENUE L|1320|CRIMINAL DAMAGE|          TO VEHICLE|              STREET| false|   false| 432|     004|  10|            52|      14|     1201814|     1839027|2015|02/10/2018 03:50:...|41.713031786|-87.536487809|(41.713031786, -8...|  15|\n",
      "+--------+-----------+-------------------+--------------------+----+---------------+--------------------+--------------------+------+--------+----+--------+----+--------------+--------+------------+------------+----+--------------------+------------+-------------+--------------------+----+\n",
      "only showing top 20 rows\n",
      "\n"
     ]
    }
   ],
   "source": [
    "filtered_df.show()"
   ]
  },
  {
   "cell_type": "markdown",
   "id": "651a2b65-d16c-42e8-a60d-3dc73baa2ca9",
   "metadata": {},
   "source": [
    "<h5>8.B Find out at which hour of the day crime is highest.</h5>"
   ]
  },
  {
   "cell_type": "code",
   "execution_count": 27,
   "id": "a2b5659a-057b-41e6-a625-59a3fd0ecabf",
   "metadata": {},
   "outputs": [],
   "source": [
    "groupedby_hour_df = filtered_df.groupby('hour').count().sort('hour')"
   ]
  },
  {
   "cell_type": "code",
   "execution_count": 28,
   "id": "83bbded3-aa0a-4397-bd97-d285be0b62ab",
   "metadata": {},
   "outputs": [
    {
     "name": "stdout",
     "output_type": "stream",
     "text": [
      "+----+-----+\n",
      "|hour|count|\n",
      "+----+-----+\n",
      "|   0|54348|\n",
      "|   1|30174|\n",
      "|   2|25795|\n",
      "|   3|21679|\n",
      "|   4|16805|\n",
      "|   5|14683|\n",
      "|   6|17216|\n",
      "|   7|23922|\n",
      "|   8|34805|\n",
      "|   9|45875|\n",
      "|  10|44134|\n",
      "|  11|45098|\n",
      "|  12|59078|\n",
      "|  13|46811|\n",
      "|  14|49853|\n",
      "|  15|53531|\n",
      "|  16|51392|\n",
      "|  17|52313|\n",
      "|  18|55177|\n",
      "|  19|55027|\n",
      "+----+-----+\n",
      "only showing top 20 rows\n",
      "\n"
     ]
    }
   ],
   "source": [
    "groupedby_hour_df.show()"
   ]
  },
  {
   "cell_type": "code",
   "execution_count": 29,
   "id": "6209df15-ea1c-4698-aee0-4a4353a69928",
   "metadata": {},
   "outputs": [
    {
     "data": {
      "image/png": "[encoded data removed]",
      "text/plain": [
       "<Figure size 640x480 with 1 Axes>"
      ]
     },
     "metadata": {},
     "output_type": "display_data"
    }
   ],
   "source": [
    "x = groupedby_hour_df.toPandas()['hour'].values.tolist()\n",
    "y = groupedby_hour_df.toPandas()['count'].values.tolist()\n",
    "plt.bar(x, y)\n",
    "plt.xlabel('Hour of the Day')\n",
    "plt.ylabel('Crime Count')\n",
    "plt.title('Hourly Crime Count')\n",
    "plt.xticks(range(24))\n",
    "plt.show()"
   ]
  },
  {
   "cell_type": "markdown",
   "id": "9364c4d6-fc04-43c6-93e6-7eba54733a77",
   "metadata": {},
   "source": [
    "<h5>hour of the day with highest crime</h5>"
   ]
  },
  {
   "cell_type": "code",
   "execution_count": 30,
   "id": "714ee628-2be6-4b27-9f9b-ecef180c39c2",
   "metadata": {},
   "outputs": [
    {
     "name": "stdout",
     "output_type": "stream",
     "text": [
      "+----+-----+\n",
      "|hour|count|\n",
      "+----+-----+\n",
      "|  12|59078|\n",
      "+----+-----+\n",
      "only showing top 1 row\n",
      "\n"
     ]
    }
   ],
   "source": [
    "groupedby_hour_df.sort(groupedby_hour_df['count'].desc()).show(1)"
   ]
  },
  {
   "cell_type": "markdown",
   "id": "7c63ccd8-07e5-4b8e-b90b-497e10571065",
   "metadata": {},
   "source": [
    "<h5>8.C Find top ten crimes and present them as a bar chart.</h5>"
   ]
  },
  {
   "cell_type": "code",
   "execution_count": 31,
   "id": "bbd7cffe-1e5a-45f3-a540-b8eabdf1b0e4",
   "metadata": {},
   "outputs": [
    {
     "name": "stdout",
     "output_type": "stream",
     "text": [
      "+-------------------+------+\n",
      "|       Primary Type| count|\n",
      "+-------------------+------+\n",
      "|              THEFT|249920|\n",
      "|            BATTERY|198220|\n",
      "|    CRIMINAL DAMAGE|120257|\n",
      "|          NARCOTICS| 76505|\n",
      "|            ASSAULT| 68937|\n",
      "| DECEPTIVE PRACTICE| 68806|\n",
      "|           BURGLARY| 53109|\n",
      "|MOTOR VEHICLE THEFT| 48802|\n",
      "|  CRIMINAL TRESPASS| 26944|\n",
      "|            ROBBERY| 25505|\n",
      "+-------------------+------+\n",
      "\n"
     ]
    }
   ],
   "source": [
    "groupedby_crime_df = filtered_df.groupby('Primary Type').count()\n",
    "groupedby_crime_df = groupedby_crime_df.sort(groupedby_crime_df['count'].desc()).limit(10)\n",
    "groupedby_crime_df.show()"
   ]
  },
  {
   "cell_type": "code",
   "execution_count": 32,
   "id": "5754e0ba-832f-44f1-a999-59e3d978cff2",
   "metadata": {},
   "outputs": [
    {
     "data": {
      "image/png": "[encoded data removed]",
      "text/plain": [
       "<Figure size 640x480 with 1 Axes>"
      ]
     },
     "metadata": {},
     "output_type": "display_data"
    }
   ],
   "source": [
    "x = groupedby_crime_df.toPandas()['Primary Type'].values.tolist()\n",
    "y = groupedby_crime_df.toPandas()['count'].values.tolist()\n",
    "plt.bar(x, y)\n",
    "plt.xlabel('Crimes')\n",
    "plt.ylabel('Crime Count')\n",
    "plt.title('Top 10 Crimes ')\n",
    "plt.xticks(rotation = 45)\n",
    "plt.show()"
   ]
  },
  {
   "cell_type": "code",
   "execution_count": null,
   "id": "db895ad2-6554-4480-ba83-a4a9426f96da",
   "metadata": {},
   "outputs": [],
   "source": []
  }
 ],
 "metadata": {
  "kernelspec": {
   "display_name": "Python 3 (ipykernel)",
   "language": "python",
   "name": "python3"
  },
  "language_info": {
   "codemirror_mode": {
    "name": "ipython",
    "version": 3
   },
   "file_extension": ".py",
   "mimetype": "text/x-python",
   "name": "python",
   "nbconvert_exporter": "python",
   "pygments_lexer": "ipython3",
   "version": "3.10.6"
  }
 },
 "nbformat": 4,
 "nbformat_minor": 5
}
